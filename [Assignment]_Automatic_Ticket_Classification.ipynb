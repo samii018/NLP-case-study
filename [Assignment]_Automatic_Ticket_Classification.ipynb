{
  "metadata": {
    "kernelspec": {
      "language": "python",
      "display_name": "Python 3",
      "name": "python3"
    },
    "language_info": {
      "pygments_lexer": "ipython3",
      "nbconvert_exporter": "python",
      "version": "3.6.4",
      "file_extension": ".py",
      "codemirror_mode": {
        "name": "ipython",
        "version": 3
      },
      "name": "python",
      "mimetype": "text/x-python"
    },
    "colab": {
      "name": "[Assignment] Automatic Ticket Classification",
      "provenance": []
    }
  },
  "nbformat_minor": 0,
  "nbformat": 4,
  "cells": [
    {
      "source": [
        "import kagglehub\n",
        "arunagirirajan_automatic_ticket_classification_path = kagglehub.dataset_download('arunagirirajan/automatic-ticket-classification')\n",
        "\n",
        "print('Data source import complete.')\n"
      ],
      "metadata": {
        "id": "fnqENYKg2qNM"
      },
      "cell_type": "code",
      "outputs": [],
      "execution_count": null
    },
    {
      "cell_type": "markdown",
      "source": [
        "## Problem Statement\n",
        "\n",
        "You need to build a model that is able to classify customer complaints based on the products/services. By doing so, you can segregate these tickets into their relevant categories and, therefore, help in the quick resolution of the issue.\n",
        "\n",
        "You will be doing topic modelling on the <b>.json</b> data provided by the company. Since this data is not labelled, you need to apply NMF to analyse patterns and classify tickets into the following five clusters based on their products/services:\n",
        "\n",
        "* Credit card / Prepaid card\n",
        "\n",
        "* Bank account services\n",
        "\n",
        "* Theft/Dispute reporting\n",
        "\n",
        "* Mortgages/loans\n",
        "\n",
        "* Others\n",
        "\n",
        "\n",
        "With the help of topic modelling, you will be able to map each ticket onto its respective department/category. You can then use this data to train any supervised model such as logistic regression, decision tree or random forest. Using this trained model, you can classify any new customer complaint support ticket into its relevant department."
      ],
      "metadata": {
        "id": "rhR-ZUkwJrFn"
      }
    },
    {
      "cell_type": "markdown",
      "source": [
        "## Pipelines that needs to be performed:\n",
        "\n",
        "You need to perform the following eight major tasks to complete the assignment:\n",
        "\n",
        "1.  Data loading\n",
        "\n",
        "2. Text preprocessing\n",
        "\n",
        "3. Exploratory data analysis (EDA)\n",
        "\n",
        "4. Feature extraction\n",
        "\n",
        "5. Topic modelling\n",
        "\n",
        "6. Model building using supervised learning\n",
        "\n",
        "7. Model training and evaluation\n",
        "\n",
        "8. Model inference"
      ],
      "metadata": {
        "id": "mcgXVNyaLUFS"
      }
    },
    {
      "cell_type": "markdown",
      "source": [
        "## Importing the necessary libraries"
      ],
      "metadata": {
        "id": "JuLFIymAL58u"
      }
    },
    {
      "cell_type": "code",
      "source": [
        "import json\n",
        "import numpy as np\n",
        "import pandas as pd\n",
        "import re, nltk, spacy, string\n",
        "import en_core_web_sm\n",
        "\n",
        "import seaborn as sns\n",
        "import matplotlib.pyplot as plt\n",
        "\n",
        "from plotly.offline import plot\n",
        "import plotly.graph_objects as go\n",
        "import plotly.express as px\n",
        "\n",
        "from sklearn.feature_extraction.text import CountVectorizer, TfidfVectorizer, TfidfTransformer\n",
        "from pprint import pprint\n",
        "\n",
        "%matplotlib inline\n",
        "\n",
        "nlp = en_core_web_sm.load()"
      ],
      "metadata": {
        "id": "O-Q9pqrcJrFr",
        "execution": {
          "iopub.status.busy": "2022-01-13T17:48:17.273167Z",
          "iopub.execute_input": "2022-01-13T17:48:17.273793Z",
          "iopub.status.idle": "2022-01-13T17:48:30.670516Z",
          "shell.execute_reply.started": "2022-01-13T17:48:17.273698Z",
          "shell.execute_reply": "2022-01-13T17:48:30.669863Z"
        },
        "trusted": true
      },
      "execution_count": null,
      "outputs": []
    },
    {
      "cell_type": "markdown",
      "source": [
        "## Loading the data\n",
        "\n",
        "The data is in JSON format and we need to convert it to a dataframe."
      ],
      "metadata": {
        "id": "KtRLCsNVJrFt"
      }
    },
    {
      "cell_type": "code",
      "source": [
        "# Opening JSON file\n",
        "file_path = open('../input/automatic-ticket-classification/complaints-2021-05-14_08_16.json') # Write the path to your data file and load it\n",
        "\n",
        "# returns JSON object as\n",
        "# a dictionary\n",
        "data = json.load(file_path)\n",
        "df = pd.json_normalize(data)"
      ],
      "metadata": {
        "id": "puVzIf_iJrFt",
        "execution": {
          "iopub.status.busy": "2022-01-13T17:48:30.672348Z",
          "iopub.execute_input": "2022-01-13T17:48:30.672852Z",
          "iopub.status.idle": "2022-01-13T17:48:35.274088Z",
          "shell.execute_reply.started": "2022-01-13T17:48:30.67281Z",
          "shell.execute_reply": "2022-01-13T17:48:35.273225Z"
        },
        "trusted": true
      },
      "execution_count": null,
      "outputs": []
    },
    {
      "cell_type": "markdown",
      "source": [
        "## Data preparation"
      ],
      "metadata": {
        "id": "_xYpH-sAJrFu"
      }
    },
    {
      "cell_type": "code",
      "source": [
        "# Inspect the dataframe to understand the given data.\n",
        "pd.set_option('max_columns', None)\n",
        "df.head()"
      ],
      "metadata": {
        "id": "Lf8ufHH5JrFu",
        "execution": {
          "iopub.status.busy": "2022-01-13T17:48:35.275385Z",
          "iopub.execute_input": "2022-01-13T17:48:35.275787Z",
          "iopub.status.idle": "2022-01-13T17:48:35.311286Z",
          "shell.execute_reply.started": "2022-01-13T17:48:35.275745Z",
          "shell.execute_reply": "2022-01-13T17:48:35.310474Z"
        },
        "trusted": true
      },
      "execution_count": null,
      "outputs": []
    },
    {
      "cell_type": "code",
      "source": [
        "df.info()"
      ],
      "metadata": {
        "execution": {
          "iopub.status.busy": "2022-01-13T17:48:35.313599Z",
          "iopub.execute_input": "2022-01-13T17:48:35.314082Z",
          "iopub.status.idle": "2022-01-13T17:48:35.556656Z",
          "shell.execute_reply.started": "2022-01-13T17:48:35.314029Z",
          "shell.execute_reply": "2022-01-13T17:48:35.555727Z"
        },
        "trusted": true,
        "id": "BMT30tom2qNZ"
      },
      "execution_count": null,
      "outputs": []
    },
    {
      "cell_type": "code",
      "source": [
        "# Print the column names\n",
        "def print_column_names():\n",
        "    i = 1\n",
        "    for col in df.columns:\n",
        "        print(str(\"{:02d}\".format(i)) +\" Column:\\033[1m\", col, '\\033[0m')\n",
        "        i += 1\n",
        "\n",
        "print_column_names()"
      ],
      "metadata": {
        "id": "Dwcty-wmJrFw",
        "execution": {
          "iopub.status.busy": "2022-01-13T17:48:35.557727Z",
          "iopub.execute_input": "2022-01-13T17:48:35.557929Z",
          "iopub.status.idle": "2022-01-13T17:48:35.573819Z",
          "shell.execute_reply.started": "2022-01-13T17:48:35.557904Z",
          "shell.execute_reply": "2022-01-13T17:48:35.572951Z"
        },
        "trusted": true
      },
      "execution_count": null,
      "outputs": []
    },
    {
      "cell_type": "code",
      "source": [
        "# Assign new column names\n",
        "new_columns = {}\n",
        "for col in df.columns:\n",
        "    new_columns[col] = re.sub(\"^_\", \"\", col).replace(\"source.\", \"\")\n",
        "\n",
        "df.rename(columns = new_columns, inplace = True)\n",
        "\n",
        "print_column_names()"
      ],
      "metadata": {
        "id": "FYCtKXD1JrFw",
        "execution": {
          "iopub.status.busy": "2022-01-13T17:48:35.575904Z",
          "iopub.execute_input": "2022-01-13T17:48:35.576505Z",
          "iopub.status.idle": "2022-01-13T17:48:35.590143Z",
          "shell.execute_reply.started": "2022-01-13T17:48:35.576472Z",
          "shell.execute_reply": "2022-01-13T17:48:35.586285Z"
        },
        "trusted": true
      },
      "execution_count": null,
      "outputs": []
    },
    {
      "cell_type": "code",
      "source": [
        "# Get the shape and size of the dataset\n",
        "print('No of rows:\\033[1m', df.shape[0], '\\033[0m')\n",
        "print('No of cols:\\033[1m', df.shape[1], '\\033[0m')"
      ],
      "metadata": {
        "execution": {
          "iopub.status.busy": "2022-01-13T17:48:35.591263Z",
          "iopub.execute_input": "2022-01-13T17:48:35.591559Z",
          "iopub.status.idle": "2022-01-13T17:48:35.597465Z",
          "shell.execute_reply.started": "2022-01-13T17:48:35.591513Z",
          "shell.execute_reply": "2022-01-13T17:48:35.596722Z"
        },
        "trusted": true,
        "id": "gSUtxbtW2qNa"
      },
      "execution_count": null,
      "outputs": []
    },
    {
      "cell_type": "code",
      "source": [
        "# Assign nan in place of blanks in the complaints column\n",
        "df.complaint_what_happened.replace(r'', np.nan, regex=True, inplace=True)"
      ],
      "metadata": {
        "id": "grQUPFL5JrFx",
        "execution": {
          "iopub.status.busy": "2022-01-13T17:48:35.598682Z",
          "iopub.execute_input": "2022-01-13T17:48:35.598894Z",
          "iopub.status.idle": "2022-01-13T17:48:35.618798Z",
          "shell.execute_reply.started": "2022-01-13T17:48:35.598869Z",
          "shell.execute_reply": "2022-01-13T17:48:35.617872Z"
        },
        "trusted": true
      },
      "execution_count": null,
      "outputs": []
    },
    {
      "cell_type": "code",
      "source": [
        "# Remove all rows where complaints column is nan\n",
        "df = df[df.complaint_what_happened.notna()]\n",
        "print('Remaining Rows:\\033[1m', len(df), '\\033[0m')"
      ],
      "metadata": {
        "id": "Jfxd8VSmJrFy",
        "execution": {
          "iopub.status.busy": "2022-01-13T17:48:35.620059Z",
          "iopub.execute_input": "2022-01-13T17:48:35.620284Z",
          "iopub.status.idle": "2022-01-13T17:48:35.658935Z",
          "shell.execute_reply.started": "2022-01-13T17:48:35.620258Z",
          "shell.execute_reply": "2022-01-13T17:48:35.658098Z"
        },
        "trusted": true
      },
      "execution_count": null,
      "outputs": []
    },
    {
      "cell_type": "markdown",
      "source": [
        "## Prepare the text for topic modeling\n",
        "\n",
        "Once you have removed all the blank complaints, you need to:\n",
        "\n",
        "* Make the text lowercase\n",
        "* Remove text in square brackets\n",
        "* Remove punctuation\n",
        "* Remove words containing numbers\n",
        "\n",
        "\n",
        "Once you have done these cleaning operations you need to perform the following:\n",
        "* Lemmatize the texts\n",
        "* Use POS tags to get relevant words from the texts.\n"
      ],
      "metadata": {
        "id": "L944HZpsJrFy"
      }
    },
    {
      "cell_type": "code",
      "source": [
        "# Write your function here to clean the text and remove all the unnecessary elements.\n",
        "def cleaned_text(sentence):\n",
        "    sentence = sentence.lower()\n",
        "    sentence = re.sub(\"[\\[].*?[\\]]\", \"\", sentence)\n",
        "    sentence = re.sub(r'[^\\w\\s]','', sentence)\n",
        "    sentence = re.sub(r'[0-9]', '', sentence, re.I|re.A)\n",
        "    return sentence"
      ],
      "metadata": {
        "id": "qm7SjjSkJrFz",
        "execution": {
          "iopub.status.busy": "2022-01-13T17:48:35.661522Z",
          "iopub.execute_input": "2022-01-13T17:48:35.661753Z",
          "iopub.status.idle": "2022-01-13T17:48:35.668393Z",
          "shell.execute_reply.started": "2022-01-13T17:48:35.661726Z",
          "shell.execute_reply": "2022-01-13T17:48:35.666938Z"
        },
        "trusted": true
      },
      "execution_count": null,
      "outputs": []
    },
    {
      "cell_type": "code",
      "source": [
        "# Write your function to Lemmatize the texts\n",
        "import nltk\n",
        "from nltk.stem import WordNetLemmatizer\n",
        "from nltk.corpus import wordnet, stopwords\n",
        "from nltk.corpus import stopwords\n",
        "\n",
        "stop = set(stopwords.words('english'))\n",
        "lemmatizer = WordNetLemmatizer()\n",
        "\n",
        "# function to convert nltk tag to wordnet tag\n",
        "def nltk_tag_to_wordnet_tag(nltk_tag):\n",
        "    if nltk_tag.startswith('J'):\n",
        "        return wordnet.ADJ\n",
        "    elif nltk_tag.startswith('V'):\n",
        "        return wordnet.VERB\n",
        "    elif nltk_tag.startswith('N'):\n",
        "        return wordnet.NOUN\n",
        "    elif nltk_tag.startswith('R'):\n",
        "        return wordnet.ADV\n",
        "    else:\n",
        "        return None\n",
        "\n",
        "def lemmatized_text(sentence):\n",
        "    # tokenize into words\n",
        "    words = nltk.word_tokenize(sentence)\n",
        "\n",
        "    # remove stop words (this is optional but generally done)\n",
        "    words = [word for word in words if word not in stopwords.words(\"english\")]\n",
        "\n",
        "    # tokenize the sentence and find the POS tag for each token\n",
        "    nltk_tagged = nltk.pos_tag(words)\n",
        "\n",
        "    # tuple of (token, wordnet_tag)\n",
        "    wordnet_tagged = map(lambda x: (x[0], nltk_tag_to_wordnet_tag(x[1])), nltk_tagged)\n",
        "    lemmatized_sentence = []\n",
        "    for word, tag in wordnet_tagged:\n",
        "        if tag is None:\n",
        "            # if there is no available tag, append the token as is\n",
        "            lemmatized_sentence.append(word)\n",
        "        else:\n",
        "            # else use the tag to lemmatize the token\n",
        "            lemmatized_sentence.append(lemmatizer.lemmatize(word, tag))\n",
        "    return \" \".join(lemmatized_sentence)"
      ],
      "metadata": {
        "id": "zgOu8t8HJrFz",
        "execution": {
          "iopub.status.busy": "2022-01-13T17:48:35.669865Z",
          "iopub.execute_input": "2022-01-13T17:48:35.67036Z",
          "iopub.status.idle": "2022-01-13T17:48:35.687674Z",
          "shell.execute_reply.started": "2022-01-13T17:48:35.670321Z",
          "shell.execute_reply": "2022-01-13T17:48:35.68684Z"
        },
        "trusted": true
      },
      "execution_count": null,
      "outputs": []
    },
    {
      "cell_type": "code",
      "source": [
        "from tqdm import tqdm\n",
        "\n",
        "# Create a dataframe('df_clean') that will have only the complaints and the lemmatized complaints\n",
        "df_clean = pd.DataFrame()\n",
        "\n",
        "for x in tqdm(df.complaint_what_happened):\n",
        "    df_clean = df_clean.append({'complaint_what_happened':x, 'lemmatized_complaints':lemmatized_text(cleaned_text(x))}, ignore_index=True)"
      ],
      "metadata": {
        "id": "uXnN7aa_JrF0",
        "execution": {
          "iopub.status.busy": "2022-01-13T17:48:35.688993Z",
          "iopub.execute_input": "2022-01-13T17:48:35.689371Z",
          "iopub.status.idle": "2022-01-13T18:05:34.530149Z",
          "shell.execute_reply.started": "2022-01-13T17:48:35.689328Z",
          "shell.execute_reply": "2022-01-13T18:05:34.529183Z"
        },
        "trusted": true
      },
      "execution_count": null,
      "outputs": []
    },
    {
      "cell_type": "code",
      "source": [
        "df_clean"
      ],
      "metadata": {
        "id": "nOiDVvEIJrF0",
        "execution": {
          "iopub.status.busy": "2022-01-13T18:05:34.531636Z",
          "iopub.execute_input": "2022-01-13T18:05:34.531951Z",
          "iopub.status.idle": "2022-01-13T18:05:34.546285Z",
          "shell.execute_reply.started": "2022-01-13T18:05:34.53191Z",
          "shell.execute_reply": "2022-01-13T18:05:34.545143Z"
        },
        "trusted": true
      },
      "execution_count": null,
      "outputs": []
    },
    {
      "cell_type": "code",
      "source": [
        "from textblob import TextBlob\n",
        "\n",
        "tqdm.pandas()\n",
        "\n",
        "# Write your function to extract the POS tags\n",
        "def extract_pos_tag(sentence):\n",
        "    # Create a textblob object\n",
        "    blob = TextBlob(sentence)\n",
        "\n",
        "    # extract words with tags 'NN', join them and return\n",
        "    return ' '.join([ word for (word,tag) in blob.tags if tag == \"NN\"])\n",
        "\n",
        "df_clean[\"complaint_POS_removed\"] = df_clean.progress_apply(lambda x: extract_pos_tag(x.lemmatized_complaints), axis=1)\n",
        "df_clean[\"length\"] = df_clean.progress_apply(lambda x: len(x.complaint_POS_removed), axis=1)"
      ],
      "metadata": {
        "id": "Kk7fc4DuJrF1",
        "execution": {
          "iopub.status.busy": "2022-01-13T18:05:34.54776Z",
          "iopub.execute_input": "2022-01-13T18:05:34.548135Z",
          "iopub.status.idle": "2022-01-13T18:09:36.645688Z",
          "shell.execute_reply.started": "2022-01-13T18:05:34.548087Z",
          "shell.execute_reply": "2022-01-13T18:09:36.64486Z"
        },
        "trusted": true
      },
      "execution_count": null,
      "outputs": []
    },
    {
      "cell_type": "code",
      "source": [
        "# The clean dataframe should now contain the raw complaint, lemmatized complaint and the complaint after removing POS tags.\n",
        "df_clean"
      ],
      "metadata": {
        "id": "AjxfchvFJrF2",
        "execution": {
          "iopub.status.busy": "2022-01-13T18:09:36.646789Z",
          "iopub.execute_input": "2022-01-13T18:09:36.647019Z",
          "iopub.status.idle": "2022-01-13T18:09:36.669443Z",
          "shell.execute_reply.started": "2022-01-13T18:09:36.646992Z",
          "shell.execute_reply": "2022-01-13T18:09:36.668287Z"
        },
        "trusted": true
      },
      "execution_count": null,
      "outputs": []
    },
    {
      "cell_type": "markdown",
      "source": [
        "## Exploratory data analysis to get familiar with the data.\n",
        "\n",
        "Write the code in this task to perform the following:\n",
        "\n",
        "*   Visualise the data according to the 'Complaint' character length.\n",
        "*   Using a word cloud find the top 40 words by frequency among all the articles after processing the text.\n",
        "*   Find the top unigrams, bigrams and trigrams by frequency among all the complaints after processing the text."
      ],
      "metadata": {
        "id": "_7Un1AElJrF2"
      }
    },
    {
      "cell_type": "code",
      "source": [
        "# Write your code here to visualise the data according to the 'Complaint' character length\n",
        "plt.figure(figsize=(18,5))\n",
        "plt.hist(df_clean.length, bins=50)\n",
        "plt.xlabel(\"Complaint Character Length\")\n",
        "plt.show()"
      ],
      "metadata": {
        "id": "q-zaqJF6JrF2",
        "execution": {
          "iopub.status.busy": "2022-01-13T18:09:36.670876Z",
          "iopub.execute_input": "2022-01-13T18:09:36.671293Z",
          "iopub.status.idle": "2022-01-13T18:09:37.013728Z",
          "shell.execute_reply.started": "2022-01-13T18:09:36.671248Z",
          "shell.execute_reply": "2022-01-13T18:09:37.012928Z"
        },
        "trusted": true
      },
      "execution_count": null,
      "outputs": []
    },
    {
      "cell_type": "code",
      "source": [
        "# Zoomed to see the figure upto 4000\n",
        "plt.figure(figsize=(18,5))\n",
        "plt.hist([l for l in df_clean.length if l < 4000], bins=50)\n",
        "plt.xlabel(\"Complaint Character Length\")\n",
        "plt.show()"
      ],
      "metadata": {
        "execution": {
          "iopub.status.busy": "2022-01-13T18:09:37.014896Z",
          "iopub.execute_input": "2022-01-13T18:09:37.016681Z",
          "iopub.status.idle": "2022-01-13T18:09:37.463556Z",
          "shell.execute_reply.started": "2022-01-13T18:09:37.016629Z",
          "shell.execute_reply": "2022-01-13T18:09:37.462676Z"
        },
        "trusted": true,
        "id": "0a7oaUUF2qNc"
      },
      "execution_count": null,
      "outputs": []
    },
    {
      "cell_type": "markdown",
      "source": [
        "#### Find the top 40 words by frequency among all the articles after processing the text."
      ],
      "metadata": {
        "id": "T9jD_6SeJrF3"
      }
    },
    {
      "cell_type": "code",
      "source": [
        "# Using a word cloud find the top 40 words by frequency among all the articles after processing the text\n",
        "from wordcloud import WordCloud\n",
        "\n",
        "wordcloud = WordCloud(\n",
        "                          background_color='lemonchiffon',\n",
        "                          stopwords=stop,\n",
        "                          max_words=40,\n",
        "                          max_font_size=40,\n",
        "                          random_state=42\n",
        "                         ).generate(str(df_clean['complaint_POS_removed']))\n",
        "\n",
        "fig = plt.figure(figsize=(20,15))\n",
        "plt.imshow(wordcloud)\n",
        "plt.axis('off')\n",
        "plt.show()"
      ],
      "metadata": {
        "id": "QcfdvtfZJrF3",
        "execution": {
          "iopub.status.busy": "2022-01-13T18:09:37.464967Z",
          "iopub.execute_input": "2022-01-13T18:09:37.465294Z",
          "iopub.status.idle": "2022-01-13T18:09:37.982542Z",
          "shell.execute_reply.started": "2022-01-13T18:09:37.465252Z",
          "shell.execute_reply": "2022-01-13T18:09:37.981748Z"
        },
        "trusted": true
      },
      "execution_count": null,
      "outputs": []
    },
    {
      "cell_type": "code",
      "source": [
        "# Removing -PRON- from the text corpus\n",
        "df_clean['Complaint_clean'] = df_clean['complaint_POS_removed'].str.replace('-PRON-', '')"
      ],
      "metadata": {
        "id": "OkSmc3UaJrF4",
        "execution": {
          "iopub.status.busy": "2022-01-13T18:09:37.983632Z",
          "iopub.execute_input": "2022-01-13T18:09:37.983995Z",
          "iopub.status.idle": "2022-01-13T18:09:38.015156Z",
          "shell.execute_reply.started": "2022-01-13T18:09:37.983952Z",
          "shell.execute_reply": "2022-01-13T18:09:38.014315Z"
        },
        "trusted": true
      },
      "execution_count": null,
      "outputs": []
    },
    {
      "cell_type": "markdown",
      "source": [
        "#### Find the top unigrams,bigrams and trigrams by frequency among all the complaints after processing the text."
      ],
      "metadata": {
        "id": "5DfCSbbmJrF4"
      }
    },
    {
      "cell_type": "code",
      "source": [
        "# Write your code here to find the top 30 unigram frequency among the complaints in the cleaned datafram(df_clean).\n",
        "def get_top_n_words(corpus, n=None):\n",
        "    vec = CountVectorizer(stop_words='english').fit(corpus)\n",
        "    bag_of_words = vec.transform(corpus)\n",
        "    sum_words = bag_of_words.sum(axis=0)\n",
        "    words_freq = [(word, sum_words[0, idx]) for word, idx in vec.vocabulary_.items()]\n",
        "    words_freq =sorted(words_freq, key = lambda x: x[1], reverse=True)\n",
        "    return words_freq[:n]\n",
        "\n",
        "# Top 30 unigrams by frequency among all the complaints\n",
        "common_words = get_top_n_words(df_clean['complaint_POS_removed'].values.astype('U'), 30)\n",
        "df2 = pd.DataFrame(common_words, columns = ['unigram' , 'count'])\n",
        "\n",
        "# Plot the top 30 unigrams\n",
        "plt.figure(figsize=(15,6))\n",
        "sns.barplot(x='unigram', y='count', data=df2, palette=\"coolwarm\")\n",
        "plt.xticks(rotation=90)\n",
        "plt.title(\"Top 30 unigrams in the Complaint text after removing stop words and lemmatization\", fontsize=20)\n",
        "plt.show()"
      ],
      "metadata": {
        "id": "5mbk5DS5JrF4",
        "execution": {
          "iopub.status.busy": "2022-01-13T18:09:38.016312Z",
          "iopub.execute_input": "2022-01-13T18:09:38.01666Z",
          "iopub.status.idle": "2022-01-13T18:09:44.822873Z",
          "shell.execute_reply.started": "2022-01-13T18:09:38.016632Z",
          "shell.execute_reply": "2022-01-13T18:09:44.822013Z"
        },
        "trusted": true
      },
      "execution_count": null,
      "outputs": []
    },
    {
      "cell_type": "code",
      "source": [
        "# Print the top 10 words in the unigram frequency\n",
        "df2.head(10)"
      ],
      "metadata": {
        "id": "YX7fedm1JrF8",
        "execution": {
          "iopub.status.busy": "2022-01-13T18:09:44.824233Z",
          "iopub.execute_input": "2022-01-13T18:09:44.824717Z",
          "iopub.status.idle": "2022-01-13T18:09:44.835251Z",
          "shell.execute_reply.started": "2022-01-13T18:09:44.824671Z",
          "shell.execute_reply": "2022-01-13T18:09:44.83433Z"
        },
        "trusted": true
      },
      "execution_count": null,
      "outputs": []
    },
    {
      "cell_type": "code",
      "source": [
        "# Write your code here to find the top 30 bigram frequency among the complaints in the cleaned datafram(df_clean).\n",
        "def get_top_n_bigram(corpus, n=None):\n",
        "    vec = CountVectorizer(ngram_range=(2, 2), stop_words='english').fit(corpus)\n",
        "    bag_of_words = vec.transform(corpus)\n",
        "    sum_words = bag_of_words.sum(axis=0)\n",
        "    words_freq = [(word, sum_words[0, idx]) for word, idx in vec.vocabulary_.items()]\n",
        "    words_freq =sorted(words_freq, key = lambda x: x[1], reverse=True)\n",
        "    return words_freq[:n]\n",
        "\n",
        "# Top 30 bigrams by frequency among all the complaints\n",
        "common_words = get_top_n_bigram(df_clean['Complaint_clean'].values.astype('U'), 30)\n",
        "df3 = pd.DataFrame(common_words, columns = ['bigram' , 'count'])\n",
        "\n",
        "# Plot the top 30 bigrams\n",
        "plt.figure(figsize=(15,6))\n",
        "sns.barplot(x='bigram', y='count', data=df3, palette=\"coolwarm\")\n",
        "plt.xticks(rotation=90)\n",
        "plt.title(\"Top 30 bigrams in the Complaint text after removing stop words and lemmatization\", fontsize=20)\n",
        "plt.show()"
      ],
      "metadata": {
        "id": "aV7kD7w8JrF8",
        "execution": {
          "iopub.status.busy": "2022-01-13T18:09:44.836468Z",
          "iopub.execute_input": "2022-01-13T18:09:44.836718Z",
          "iopub.status.idle": "2022-01-13T18:09:55.58868Z",
          "shell.execute_reply.started": "2022-01-13T18:09:44.83669Z",
          "shell.execute_reply": "2022-01-13T18:09:55.587872Z"
        },
        "trusted": true
      },
      "execution_count": null,
      "outputs": []
    },
    {
      "cell_type": "code",
      "source": [
        "# Print the top 10 words in the bigram frequency\n",
        "df3.head(10)"
      ],
      "metadata": {
        "id": "NPnMNIpyJrF9",
        "execution": {
          "iopub.status.busy": "2022-01-13T18:09:55.589935Z",
          "iopub.execute_input": "2022-01-13T18:09:55.590622Z",
          "iopub.status.idle": "2022-01-13T18:09:55.601481Z",
          "shell.execute_reply.started": "2022-01-13T18:09:55.590576Z",
          "shell.execute_reply": "2022-01-13T18:09:55.600788Z"
        },
        "trusted": true
      },
      "execution_count": null,
      "outputs": []
    },
    {
      "cell_type": "code",
      "source": [
        "# Write your code here to find the top 30 trigram frequency among the complaints in the cleaned datafram(df_clean).\n",
        "def get_top_n_trigram(corpus, n=None):\n",
        "    vec = CountVectorizer(ngram_range=(3, 3), stop_words='english').fit(corpus)\n",
        "    bag_of_words = vec.transform(corpus)\n",
        "    sum_words = bag_of_words.sum(axis=0)\n",
        "    words_freq = [(word, sum_words[0, idx]) for word, idx in vec.vocabulary_.items()]\n",
        "    words_freq =sorted(words_freq, key = lambda x: x[1], reverse=True)\n",
        "    return words_freq[:n]\n",
        "\n",
        "# Top 30 trigrams by frequency among all the complaints\n",
        "common_words = get_top_n_trigram(df_clean['Complaint_clean'].values.astype('U'), 30)\n",
        "df4 = pd.DataFrame(common_words, columns = ['trigram' , 'count'])\n",
        "\n",
        "# Plot the top 30 unigrams\n",
        "plt.figure(figsize=(15,6))\n",
        "sns.barplot(x='trigram', y='count', data=df4, palette=\"coolwarm\")\n",
        "plt.xticks(rotation=90)\n",
        "plt.title(\"Top 30 trigrams in the Complaint text after removing stop words and lemmatization\", fontsize=20)\n",
        "plt.show()"
      ],
      "metadata": {
        "id": "Xkh7vtbtJrF-",
        "execution": {
          "iopub.status.busy": "2022-01-13T18:09:55.602715Z",
          "iopub.execute_input": "2022-01-13T18:09:55.602933Z",
          "iopub.status.idle": "2022-01-13T18:10:10.355367Z",
          "shell.execute_reply.started": "2022-01-13T18:09:55.602908Z",
          "shell.execute_reply": "2022-01-13T18:10:10.354521Z"
        },
        "trusted": true
      },
      "execution_count": null,
      "outputs": []
    },
    {
      "cell_type": "code",
      "source": [
        "# Print the top 10 words in the trigram frequency\n",
        "df4.head(10)"
      ],
      "metadata": {
        "id": "REcVxNfvJrF-",
        "execution": {
          "iopub.status.busy": "2022-01-13T18:10:10.356872Z",
          "iopub.execute_input": "2022-01-13T18:10:10.357378Z",
          "iopub.status.idle": "2022-01-13T18:10:10.369361Z",
          "shell.execute_reply.started": "2022-01-13T18:10:10.357333Z",
          "shell.execute_reply": "2022-01-13T18:10:10.368445Z"
        },
        "trusted": true
      },
      "execution_count": null,
      "outputs": []
    },
    {
      "cell_type": "markdown",
      "source": [
        "## The personal details of customer has been masked in the dataset with xxxx. Let's remove the masked text as this will be of no use for our analysis"
      ],
      "metadata": {
        "id": "yUXzFji0JrF_"
      }
    },
    {
      "cell_type": "code",
      "source": [
        "df_clean['Complaint_clean'] = df_clean['Complaint_clean'].str.replace('xxxx','')"
      ],
      "metadata": {
        "id": "wKda-a_IJrF_",
        "execution": {
          "iopub.status.busy": "2022-01-13T18:10:10.372603Z",
          "iopub.execute_input": "2022-01-13T18:10:10.372853Z",
          "iopub.status.idle": "2022-01-13T18:10:10.417262Z",
          "shell.execute_reply.started": "2022-01-13T18:10:10.372824Z",
          "shell.execute_reply": "2022-01-13T18:10:10.416378Z"
        },
        "trusted": true
      },
      "execution_count": null,
      "outputs": []
    },
    {
      "cell_type": "code",
      "source": [
        "# All masked texts has been removed\n",
        "df_clean"
      ],
      "metadata": {
        "id": "9UIFk8fQJrF_",
        "execution": {
          "iopub.status.busy": "2022-01-13T18:10:10.421061Z",
          "iopub.execute_input": "2022-01-13T18:10:10.422221Z",
          "iopub.status.idle": "2022-01-13T18:10:10.438102Z",
          "shell.execute_reply.started": "2022-01-13T18:10:10.42217Z",
          "shell.execute_reply": "2022-01-13T18:10:10.437431Z"
        },
        "trusted": true
      },
      "execution_count": null,
      "outputs": []
    },
    {
      "cell_type": "markdown",
      "source": [
        "## Feature Extraction\n",
        "Convert the raw texts to a matrix of TF-IDF features\n",
        "\n",
        "**max_df** is used for removing terms that appear too frequently, also known as \"corpus-specific stop words\"\n",
        "max_df = 0.95 means \"ignore terms that appear in more than 95% of the complaints\"\n",
        "\n",
        "**min_df** is used for removing terms that appear too infrequently\n",
        "min_df = 2 means \"ignore terms that appear in less than 2 complaints\""
      ],
      "metadata": {
        "id": "k-I0k0QtJrGA"
      }
    },
    {
      "cell_type": "code",
      "source": [
        "# Write your code here to initialise the TfidfVectorizer\n",
        "tfidf = TfidfVectorizer(max_df=0.95, min_df=2, stop_words=\"english\")"
      ],
      "metadata": {
        "id": "Y8fGwaCPJrGA",
        "execution": {
          "iopub.status.busy": "2022-01-13T18:10:10.443385Z",
          "iopub.execute_input": "2022-01-13T18:10:10.443909Z",
          "iopub.status.idle": "2022-01-13T18:10:10.450777Z",
          "shell.execute_reply.started": "2022-01-13T18:10:10.443873Z",
          "shell.execute_reply": "2022-01-13T18:10:10.450167Z"
        },
        "trusted": true
      },
      "execution_count": null,
      "outputs": []
    },
    {
      "cell_type": "markdown",
      "source": [
        "#### Create a document term matrix using fit_transform\n",
        "\n",
        "The contents of a document term matrix are tuples of (complaint_id,token_id) tf-idf score:\n",
        "The tuples that are not there have a tf-idf score of 0"
      ],
      "metadata": {
        "id": "yYzD85nTJrGA"
      }
    },
    {
      "cell_type": "code",
      "source": [
        "# Write your code here to create the Document Term Matrix by transforming the complaints column present in df_clean.\n",
        "dtm = tfidf.fit_transform(df_clean.Complaint_clean)"
      ],
      "metadata": {
        "id": "ffzdDpp_JrGB",
        "execution": {
          "iopub.status.busy": "2022-01-13T18:10:10.452199Z",
          "iopub.execute_input": "2022-01-13T18:10:10.452636Z",
          "iopub.status.idle": "2022-01-13T18:10:12.10102Z",
          "shell.execute_reply.started": "2022-01-13T18:10:10.452605Z",
          "shell.execute_reply": "2022-01-13T18:10:12.100159Z"
        },
        "trusted": true
      },
      "execution_count": null,
      "outputs": []
    },
    {
      "cell_type": "markdown",
      "source": [
        "## Topic Modelling using NMF\n",
        "\n",
        "Non-Negative Matrix Factorization (NMF) is an unsupervised technique so there are no labeling of topics that the model will be trained on. The way it works is that, NMF decomposes (or factorizes) high-dimensional vectors into a lower-dimensional representation. These lower-dimensional vectors are non-negative which also means their coefficients are non-negative.\n",
        "\n",
        "In this task you have to perform the following:\n",
        "\n",
        "* Find the best number of clusters\n",
        "* Apply the best number to create word clusters\n",
        "* Inspect & validate the correction of each cluster wrt the complaints\n",
        "* Correct the labels if needed\n",
        "* Map the clusters to topics/cluster names"
      ],
      "metadata": {
        "id": "7Q9lwvNEJrGB"
      }
    },
    {
      "cell_type": "code",
      "source": [
        "from sklearn.decomposition import NMF"
      ],
      "metadata": {
        "id": "amLT4omWJrGB",
        "execution": {
          "iopub.status.busy": "2022-01-13T18:10:12.102241Z",
          "iopub.execute_input": "2022-01-13T18:10:12.102489Z",
          "iopub.status.idle": "2022-01-13T18:10:12.13451Z",
          "shell.execute_reply.started": "2022-01-13T18:10:12.102457Z",
          "shell.execute_reply": "2022-01-13T18:10:12.133733Z"
        },
        "trusted": true
      },
      "execution_count": null,
      "outputs": []
    },
    {
      "cell_type": "markdown",
      "source": [
        "## Manual Topic Modeling\n",
        "You need to do take the trial & error approach to find the best num of topics for your NMF model.\n",
        "\n",
        "The only parameter that is required is the number of components i.e. the number of topics we want. This is the most crucial step in the whole topic modeling process and will greatly affect how good your final topics are."
      ],
      "metadata": {
        "id": "0wYR1xUTJrGD"
      }
    },
    {
      "cell_type": "code",
      "source": [
        "# Load your nmf_model with the n_components i.e 5\n",
        "num_topics = 5 # write the value you want to test out\n",
        "\n",
        "# keep the random_state = 40\n",
        "nmf_model = NMF(n_components=num_topics, random_state=40) # write your code here"
      ],
      "metadata": {
        "id": "sgd2A6bhJrGD",
        "execution": {
          "iopub.status.busy": "2022-01-13T18:10:12.135517Z",
          "iopub.execute_input": "2022-01-13T18:10:12.136337Z",
          "iopub.status.idle": "2022-01-13T18:10:12.140591Z",
          "shell.execute_reply.started": "2022-01-13T18:10:12.136287Z",
          "shell.execute_reply": "2022-01-13T18:10:12.139961Z"
        },
        "trusted": true
      },
      "execution_count": null,
      "outputs": []
    },
    {
      "cell_type": "code",
      "source": [
        "nmf_model.fit(dtm)\n",
        "len(tfidf.get_feature_names())"
      ],
      "metadata": {
        "id": "VPMDYbt_JrGE",
        "execution": {
          "iopub.status.busy": "2022-01-13T18:10:12.141666Z",
          "iopub.execute_input": "2022-01-13T18:10:12.142028Z",
          "iopub.status.idle": "2022-01-13T18:10:13.147543Z",
          "shell.execute_reply.started": "2022-01-13T18:10:12.141995Z",
          "shell.execute_reply": "2022-01-13T18:10:13.146477Z"
        },
        "trusted": true
      },
      "execution_count": null,
      "outputs": []
    },
    {
      "cell_type": "code",
      "source": [
        "# Print the Top15 words for each of the topics\n",
        "for index,topic in enumerate(nmf_model.components_):\n",
        "    print(f'\\033[1mTHE TOP 15 WORDS FOR TOPIC #{index + 1}', '\\033[0m')\n",
        "    print([tfidf.get_feature_names()[i] for i in topic.argsort()[-15:]])\n",
        "    print('\\n')"
      ],
      "metadata": {
        "id": "16kRfat5JrGE",
        "execution": {
          "iopub.status.busy": "2022-01-13T18:10:13.149167Z",
          "iopub.execute_input": "2022-01-13T18:10:13.149641Z",
          "iopub.status.idle": "2022-01-13T18:10:13.440933Z",
          "shell.execute_reply.started": "2022-01-13T18:10:13.149592Z",
          "shell.execute_reply": "2022-01-13T18:10:13.440004Z"
        },
        "trusted": true
      },
      "execution_count": null,
      "outputs": []
    },
    {
      "cell_type": "code",
      "source": [
        "# Create the best topic for each complaint in terms of integer value 0,1,2,3 & 4\n",
        "topic_results = nmf_model.transform(dtm)\n",
        "topic_results[0].round(2)\n",
        "topic_results[0].argmax()\n",
        "topic_results.argmax(axis=1)"
      ],
      "metadata": {
        "id": "0OIT7LmFJrGF",
        "execution": {
          "iopub.status.busy": "2022-01-13T18:10:13.442421Z",
          "iopub.execute_input": "2022-01-13T18:10:13.442874Z",
          "iopub.status.idle": "2022-01-13T18:10:13.485279Z",
          "shell.execute_reply.started": "2022-01-13T18:10:13.442829Z",
          "shell.execute_reply": "2022-01-13T18:10:13.48435Z"
        },
        "trusted": true
      },
      "execution_count": null,
      "outputs": []
    },
    {
      "cell_type": "code",
      "source": [
        "#Assign the best topic to each of the cmplaints in Topic Column\n",
        "df_clean['Topic'] = topic_results.argmax(axis = 1) # write your code to assign topics to each rows."
      ],
      "metadata": {
        "id": "peyYv-ORJrGF",
        "execution": {
          "iopub.status.busy": "2022-01-13T18:10:13.486716Z",
          "iopub.execute_input": "2022-01-13T18:10:13.487043Z",
          "iopub.status.idle": "2022-01-13T18:10:13.493513Z",
          "shell.execute_reply.started": "2022-01-13T18:10:13.487003Z",
          "shell.execute_reply": "2022-01-13T18:10:13.492581Z"
        },
        "trusted": true
      },
      "execution_count": null,
      "outputs": []
    },
    {
      "cell_type": "code",
      "source": [
        "df_clean.head()"
      ],
      "metadata": {
        "id": "fLh_Gf3nJrGF",
        "execution": {
          "iopub.status.busy": "2022-01-13T18:10:13.495051Z",
          "iopub.execute_input": "2022-01-13T18:10:13.495281Z",
          "iopub.status.idle": "2022-01-13T18:10:13.513688Z",
          "shell.execute_reply.started": "2022-01-13T18:10:13.495248Z",
          "shell.execute_reply": "2022-01-13T18:10:13.512405Z"
        },
        "trusted": true
      },
      "execution_count": null,
      "outputs": []
    },
    {
      "cell_type": "code",
      "source": [
        "# Print the first 5 Complaint for each of the Topics\n",
        "df_clean5 = df_clean.groupby('Topic').head(5)\n",
        "df_clean5.sort_values('Topic')"
      ],
      "metadata": {
        "id": "aQKpufSPJrGG",
        "execution": {
          "iopub.status.busy": "2022-01-13T18:10:13.514799Z",
          "iopub.execute_input": "2022-01-13T18:10:13.515372Z",
          "iopub.status.idle": "2022-01-13T18:10:13.545852Z",
          "shell.execute_reply.started": "2022-01-13T18:10:13.515336Z",
          "shell.execute_reply": "2022-01-13T18:10:13.545005Z"
        },
        "trusted": true
      },
      "execution_count": null,
      "outputs": []
    },
    {
      "cell_type": "markdown",
      "source": [
        "#### After evaluating the mapping, if the topics assigned are correct then assign these names to the relevant topic:\n",
        "* Bank Account services\n",
        "* Credit card or prepaid card\n",
        "* Theft/Dispute Reporting\n",
        "* Mortgage/Loan\n",
        "* Others"
      ],
      "metadata": {
        "id": "piyLxzj6v07j"
      }
    },
    {
      "cell_type": "code",
      "source": [
        "import warnings as warnings\n",
        "warnings.filterwarnings(\"ignore\")\n",
        "\n",
        "# Create the dictionary of Topic names and Topics\n",
        "Topic_names = {0:\"Bank Account services\",\n",
        "               1:\"Credit card or prepaid card\",\n",
        "               2:\"Others\",\n",
        "               3:\"Theft/Dispute Reporting\",\n",
        "               4:\"Mortgage/Loan\"}\n",
        "\n",
        "# Replace Topics with Topic Names\n",
        "df_clean['Topic'] = df_clean['Topic'].map(Topic_names)"
      ],
      "metadata": {
        "id": "TWpwDG4RJrGG",
        "execution": {
          "iopub.status.busy": "2022-01-13T18:10:13.548714Z",
          "iopub.execute_input": "2022-01-13T18:10:13.549248Z",
          "iopub.status.idle": "2022-01-13T18:10:13.55619Z",
          "shell.execute_reply.started": "2022-01-13T18:10:13.5492Z",
          "shell.execute_reply": "2022-01-13T18:10:13.555424Z"
        },
        "trusted": true
      },
      "execution_count": null,
      "outputs": []
    },
    {
      "cell_type": "code",
      "source": [
        "df_clean"
      ],
      "metadata": {
        "id": "-2ULY5K6JrGG",
        "execution": {
          "iopub.status.busy": "2022-01-13T18:10:13.557491Z",
          "iopub.execute_input": "2022-01-13T18:10:13.5579Z",
          "iopub.status.idle": "2022-01-13T18:10:13.58386Z",
          "shell.execute_reply.started": "2022-01-13T18:10:13.557857Z",
          "shell.execute_reply": "2022-01-13T18:10:13.583229Z"
        },
        "trusted": true
      },
      "execution_count": null,
      "outputs": []
    },
    {
      "cell_type": "markdown",
      "source": [
        "## Supervised model to predict any new complaints to the relevant Topics.\n",
        "\n",
        "You have now build the model to create the topics for each complaints.Now in the below section you will use them to classify any new complaints.\n",
        "\n",
        "Since you will be using supervised learning technique we have to convert the topic names to numbers(numpy arrays only understand numbers)"
      ],
      "metadata": {
        "id": "7Mu0QBOcJrGH"
      }
    },
    {
      "cell_type": "code",
      "source": [
        "# Create the dictionary again of Topic names and Topics\n",
        "Topic_names = {\"Bank Account services\":0,\n",
        "               \"Credit card or prepaid card\":1,\n",
        "               \"Others\":2,\n",
        "               \"Theft/Dispute Reporting\":3,\n",
        "               \"Mortgage/Loan\":4}\n",
        "\n",
        "# Replace Topics with Topic Names\n",
        "df_clean['Topic'] = df_clean['Topic'].map(Topic_names)"
      ],
      "metadata": {
        "id": "_U8J3J8wJrGH",
        "execution": {
          "iopub.status.busy": "2022-01-13T18:10:13.585271Z",
          "iopub.execute_input": "2022-01-13T18:10:13.585503Z",
          "iopub.status.idle": "2022-01-13T18:10:13.59844Z",
          "shell.execute_reply.started": "2022-01-13T18:10:13.585476Z",
          "shell.execute_reply": "2022-01-13T18:10:13.597814Z"
        },
        "trusted": true
      },
      "execution_count": null,
      "outputs": []
    },
    {
      "cell_type": "code",
      "source": [
        "df_clean"
      ],
      "metadata": {
        "id": "BWIgJUkQJrGH",
        "execution": {
          "iopub.status.busy": "2022-01-13T18:10:13.599663Z",
          "iopub.execute_input": "2022-01-13T18:10:13.59988Z",
          "iopub.status.idle": "2022-01-13T18:10:13.624738Z",
          "shell.execute_reply.started": "2022-01-13T18:10:13.599854Z",
          "shell.execute_reply": "2022-01-13T18:10:13.624158Z"
        },
        "trusted": true
      },
      "execution_count": null,
      "outputs": []
    },
    {
      "cell_type": "code",
      "source": [
        "# Keep the columns\"complaint_what_happened\" & \"Topic\" only in the new dataframe --> training_data\n",
        "training_data = df_clean[[\"complaint_what_happened\",\"Topic\"]]"
      ],
      "metadata": {
        "id": "Xx-FrbkWJrGH",
        "execution": {
          "iopub.status.busy": "2022-01-13T18:10:13.625864Z",
          "iopub.execute_input": "2022-01-13T18:10:13.626687Z",
          "iopub.status.idle": "2022-01-13T18:10:13.640189Z",
          "shell.execute_reply.started": "2022-01-13T18:10:13.626653Z",
          "shell.execute_reply": "2022-01-13T18:10:13.639249Z"
        },
        "trusted": true
      },
      "execution_count": null,
      "outputs": []
    },
    {
      "cell_type": "code",
      "source": [
        "training_data"
      ],
      "metadata": {
        "id": "lVg2pa12JrGI",
        "execution": {
          "iopub.status.busy": "2022-01-13T18:10:13.641535Z",
          "iopub.execute_input": "2022-01-13T18:10:13.641942Z",
          "iopub.status.idle": "2022-01-13T18:10:13.660482Z",
          "shell.execute_reply.started": "2022-01-13T18:10:13.641913Z",
          "shell.execute_reply": "2022-01-13T18:10:13.659886Z"
        },
        "trusted": true
      },
      "execution_count": null,
      "outputs": []
    },
    {
      "cell_type": "markdown",
      "source": [
        "#### Apply the supervised models on the training data created. In this process, you have to do the following:\n",
        "* Create the vector counts using Count Vectoriser\n",
        "* Transform the word vecotr to tf-idf\n",
        "* Create the train & test data using the train_test_split on the tf-idf & topics\n"
      ],
      "metadata": {
        "id": "280Vbqk-7a8M"
      }
    },
    {
      "cell_type": "code",
      "source": [
        "# Write your code to get the Vector count\n",
        "count_vect = CountVectorizer()\n",
        "X_train_counts = count_vect.fit_transform(training_data.complaint_what_happened)\n",
        "\n",
        "# Write your code here to transform the word vector to tf-idf\n",
        "tfidf_transformer = TfidfTransformer()\n",
        "X_train_tfidf = tfidf_transformer.fit_transform(X_train_counts)"
      ],
      "metadata": {
        "id": "oUlQpgkzJrGI",
        "execution": {
          "iopub.status.busy": "2022-01-13T18:10:13.661443Z",
          "iopub.execute_input": "2022-01-13T18:10:13.662211Z",
          "iopub.status.idle": "2022-01-13T18:10:19.373257Z",
          "shell.execute_reply.started": "2022-01-13T18:10:13.66218Z",
          "shell.execute_reply": "2022-01-13T18:10:19.37228Z"
        },
        "trusted": true
      },
      "execution_count": null,
      "outputs": []
    },
    {
      "cell_type": "code",
      "source": [
        "from sklearn.model_selection import train_test_split\n",
        "\n",
        "# Performing Train-Test split\n",
        "X_train, X_test, y_train, y_test = train_test_split(X_train_tfidf, training_data.Topic, test_size=0.25, random_state=42)\n",
        "\n",
        "print(f\"Shape of X_train:\\033[1m {X_train.shape}\", '\\033[0m')\n",
        "print(f\"Shape of y_train:\\033[1m {y_train.shape}\", '\\033[0m')\n",
        "print(f\"Shape of X_test:\\033[1m {X_test.shape}\", '\\033[0m')\n",
        "print(f\"Shape of y_test:\\033[1m {y_test.shape}\", '\\033[0m')"
      ],
      "metadata": {
        "execution": {
          "iopub.status.busy": "2022-01-13T18:10:19.37448Z",
          "iopub.execute_input": "2022-01-13T18:10:19.374782Z",
          "iopub.status.idle": "2022-01-13T18:10:19.395479Z",
          "shell.execute_reply.started": "2022-01-13T18:10:19.374744Z",
          "shell.execute_reply": "2022-01-13T18:10:19.39462Z"
        },
        "trusted": true,
        "id": "U3c7FPoM2qNs"
      },
      "execution_count": null,
      "outputs": []
    },
    {
      "cell_type": "markdown",
      "source": [
        "You have to try atleast 3 models on the train & test data from these options:\n",
        "* Logistic regression\n",
        "* Decision Tree\n",
        "* Random Forest\n",
        "* Naive Bayes (optional)\n",
        "\n",
        "**Using the required evaluation metrics judge the tried models and select the ones performing the best**"
      ],
      "metadata": {
        "id": "uMU3vj6w-wqL"
      }
    },
    {
      "cell_type": "markdown",
      "source": [
        "### Model 1: Logistic Regression"
      ],
      "metadata": {
        "id": "rG7AdbYP2qNt"
      }
    },
    {
      "cell_type": "code",
      "source": [
        "# Create a function to evaluate models\n",
        "def eval_model(y_test, y_pred, model_name):\n",
        "    # print classification report of classifier\n",
        "    print(f\"\\033[1mCLASSIFICATION REPORT for {model_name}\\n\", '\\033[0m')\n",
        "    print(classification_report(y_test, y_pred, target_names=[\"Bank Account services\", \"Credit card or prepaid card\", \"Others\", \"Theft/Dispute Reporting\",\"Mortgage/Loan\"]))\n",
        "\n",
        "    # plot confusion matrix of the classifier\n",
        "    plt.figure(figsize=(10,6))\n",
        "    plt.title(f\"CONFUSION MATRIX for {model_name}\\n\")\n",
        "    matrix = confusion_matrix(y_test, y_pred)\n",
        "    sns.heatmap(matrix, annot=True, cbar=None, cmap=\"Blues\", fmt='d', xticklabels=[\"Bank Account services\", \"Credit card or prepaid card\", \"Others\", \"Theft/Dispute Reporting\",\"Mortgage/Loan\"], yticklabels=[\"Bank Account services\", \"Credit card or prepaid card\", \"Others\", \"Theft/Dispute Reporting\",\"Mortgage/Loan\"])\n",
        "    plt.show()\n",
        "\n",
        "    return"
      ],
      "metadata": {
        "execution": {
          "iopub.status.busy": "2022-01-13T18:10:19.396707Z",
          "iopub.execute_input": "2022-01-13T18:10:19.396922Z",
          "iopub.status.idle": "2022-01-13T18:10:19.404158Z",
          "shell.execute_reply.started": "2022-01-13T18:10:19.396897Z",
          "shell.execute_reply": "2022-01-13T18:10:19.403195Z"
        },
        "trusted": true,
        "id": "cjTgBU2t2qNt"
      },
      "execution_count": null,
      "outputs": []
    },
    {
      "cell_type": "code",
      "source": [
        "from sklearn.linear_model import LogisticRegression\n",
        "from sklearn.metrics import f1_score, classification_report, confusion_matrix\n",
        "\n",
        "# Run the Logistic Regression model\n",
        "model_name = 'LOGISTIC REGRESSION'\n",
        "clf_lr = LogisticRegression(solver='liblinear')\n",
        "%time\n",
        "clf_lr.fit(X_train, y_train)\n",
        "y_pred_lr = clf_lr.predict(X_test)"
      ],
      "metadata": {
        "execution": {
          "iopub.status.busy": "2022-01-13T18:10:19.405775Z",
          "iopub.execute_input": "2022-01-13T18:10:19.406221Z",
          "iopub.status.idle": "2022-01-13T18:10:23.874078Z",
          "shell.execute_reply.started": "2022-01-13T18:10:19.406179Z",
          "shell.execute_reply": "2022-01-13T18:10:23.8701Z"
        },
        "trusted": true,
        "id": "xX4Pl7wk2qNt"
      },
      "execution_count": null,
      "outputs": []
    },
    {
      "cell_type": "code",
      "source": [
        "# Calculate F1 Score using weighted average method\n",
        "f1_lr = f1_score(y_test, y_pred_lr, average=\"weighted\")\n",
        "f1_lr"
      ],
      "metadata": {
        "execution": {
          "iopub.status.busy": "2022-01-13T18:10:23.880336Z",
          "iopub.execute_input": "2022-01-13T18:10:23.88277Z",
          "iopub.status.idle": "2022-01-13T18:10:23.913207Z",
          "shell.execute_reply.started": "2022-01-13T18:10:23.882562Z",
          "shell.execute_reply": "2022-01-13T18:10:23.912054Z"
        },
        "trusted": true,
        "id": "yJOlXYKL2qNt"
      },
      "execution_count": null,
      "outputs": []
    },
    {
      "cell_type": "code",
      "source": [
        "# Run Logistic Regression on tuned hyperparameters\n",
        "clf_lr_tuned = LogisticRegression(C=1, penalty='l1',solver='saga')\n",
        "%time\n",
        "clf_lr_tuned.fit(X_train, y_train)\n",
        "y_pred_lr_tuned = clf_lr_tuned.predict(X_test)"
      ],
      "metadata": {
        "execution": {
          "iopub.status.busy": "2022-01-13T18:10:23.915208Z",
          "iopub.execute_input": "2022-01-13T18:10:23.915884Z",
          "iopub.status.idle": "2022-01-13T18:10:35.309844Z",
          "shell.execute_reply.started": "2022-01-13T18:10:23.915832Z",
          "shell.execute_reply": "2022-01-13T18:10:35.308621Z"
        },
        "trusted": true,
        "id": "kRVMOpGz2qNt"
      },
      "execution_count": null,
      "outputs": []
    },
    {
      "cell_type": "code",
      "source": [
        "# Calculate F1 Score of tuned model using weighted average method\n",
        "f1_lr_tuned = f1_score(y_test, y_pred_lr_tuned, average=\"weighted\")\n",
        "f1_lr_tuned"
      ],
      "metadata": {
        "execution": {
          "iopub.status.busy": "2022-01-13T18:10:35.311891Z",
          "iopub.execute_input": "2022-01-13T18:10:35.312265Z",
          "iopub.status.idle": "2022-01-13T18:10:35.32576Z",
          "shell.execute_reply.started": "2022-01-13T18:10:35.312216Z",
          "shell.execute_reply": "2022-01-13T18:10:35.324764Z"
        },
        "trusted": true,
        "id": "2sTCH2Kr2qNu"
      },
      "execution_count": null,
      "outputs": []
    },
    {
      "cell_type": "code",
      "source": [
        "# Evaluate the tuned Logistic Regression classifier\n",
        "eval_model(y_test, y_pred_lr_tuned, model_name)"
      ],
      "metadata": {
        "execution": {
          "iopub.status.busy": "2022-01-13T18:10:35.327132Z",
          "iopub.execute_input": "2022-01-13T18:10:35.327464Z",
          "iopub.status.idle": "2022-01-13T18:10:35.585011Z",
          "shell.execute_reply.started": "2022-01-13T18:10:35.327425Z",
          "shell.execute_reply": "2022-01-13T18:10:35.583999Z"
        },
        "trusted": true,
        "id": "K0lUux7z2qNu"
      },
      "execution_count": null,
      "outputs": []
    },
    {
      "cell_type": "code",
      "source": [
        "# Create a dataframe to store F1 Scores of all models we will build\n",
        "summary = pd.DataFrame([{'Model': 'Logistic Regression','F1 Score (untuned)': round(f1_lr, 2), 'F1 Score (tuned)': round(f1_lr_tuned, 2)}])\n",
        "summary"
      ],
      "metadata": {
        "execution": {
          "iopub.status.busy": "2022-01-13T18:10:35.586661Z",
          "iopub.execute_input": "2022-01-13T18:10:35.587072Z",
          "iopub.status.idle": "2022-01-13T18:10:35.602112Z",
          "shell.execute_reply.started": "2022-01-13T18:10:35.587029Z",
          "shell.execute_reply": "2022-01-13T18:10:35.601296Z"
        },
        "trusted": true,
        "id": "B2logShr2qNv"
      },
      "execution_count": null,
      "outputs": []
    },
    {
      "cell_type": "markdown",
      "source": [
        "### Model 2: Decision Tree"
      ],
      "metadata": {
        "id": "VPL6pv5A2qNv"
      }
    },
    {
      "cell_type": "code",
      "source": [
        "from sklearn.tree import DecisionTreeClassifier\n",
        "\n",
        "# Run Decision Tree on default hyperparameters\n",
        "model_name = 'DECISION TREE'\n",
        "clf_dt = DecisionTreeClassifier()\n",
        "%time\n",
        "clf_dt.fit(X_train, y_train)\n",
        "y_pred_dt = clf_dt.predict(X_test)"
      ],
      "metadata": {
        "execution": {
          "iopub.status.busy": "2022-01-13T18:10:35.603142Z",
          "iopub.execute_input": "2022-01-13T18:10:35.603373Z",
          "iopub.status.idle": "2022-01-13T18:10:50.399901Z",
          "shell.execute_reply.started": "2022-01-13T18:10:35.603345Z",
          "shell.execute_reply": "2022-01-13T18:10:50.398931Z"
        },
        "trusted": true,
        "id": "BQFOB0N12qNw"
      },
      "execution_count": null,
      "outputs": []
    },
    {
      "cell_type": "code",
      "source": [
        "# Calculate F1 Score using weighted average method\n",
        "f1_dt = f1_score(y_test, y_pred_dt, average=\"weighted\")\n",
        "f1_dt"
      ],
      "metadata": {
        "execution": {
          "iopub.status.busy": "2022-01-13T18:10:50.401264Z",
          "iopub.execute_input": "2022-01-13T18:10:50.401574Z",
          "iopub.status.idle": "2022-01-13T18:10:50.413622Z",
          "shell.execute_reply.started": "2022-01-13T18:10:50.401533Z",
          "shell.execute_reply": "2022-01-13T18:10:50.412775Z"
        },
        "trusted": true,
        "id": "ZpqT12tu2qNw"
      },
      "execution_count": null,
      "outputs": []
    },
    {
      "cell_type": "code",
      "source": [
        "# Run Decision Tree on tuned hyperparameters\n",
        "clf_dt_tuned = DecisionTreeClassifier(criterion='gini', max_depth=30, min_samples_leaf=15, max_features=None)\n",
        "%time\n",
        "clf_dt_tuned.fit(X_train, y_train)\n",
        "y_pred_dt_tuned = clf_dt_tuned.predict(X_test)"
      ],
      "metadata": {
        "execution": {
          "iopub.status.busy": "2022-01-13T18:10:50.415065Z",
          "iopub.execute_input": "2022-01-13T18:10:50.415401Z",
          "iopub.status.idle": "2022-01-13T18:10:57.836608Z",
          "shell.execute_reply.started": "2022-01-13T18:10:50.415366Z",
          "shell.execute_reply": "2022-01-13T18:10:57.836009Z"
        },
        "trusted": true,
        "id": "piyUY2sU2qNx"
      },
      "execution_count": null,
      "outputs": []
    },
    {
      "cell_type": "code",
      "source": [
        "# Calculate F1 Score of tuned model using weighted average method\n",
        "f1_dt_tuned = f1_score(y_test, y_pred_dt_tuned, average=\"weighted\")\n",
        "f1_dt_tuned"
      ],
      "metadata": {
        "execution": {
          "iopub.status.busy": "2022-01-13T18:10:57.837909Z",
          "iopub.execute_input": "2022-01-13T18:10:57.838531Z",
          "iopub.status.idle": "2022-01-13T18:10:57.848315Z",
          "shell.execute_reply.started": "2022-01-13T18:10:57.838493Z",
          "shell.execute_reply": "2022-01-13T18:10:57.847462Z"
        },
        "trusted": true,
        "id": "RD0T7Vgh2qNx"
      },
      "execution_count": null,
      "outputs": []
    },
    {
      "cell_type": "code",
      "source": [
        "# Evaluate the tuned Decision Tree classifier\n",
        "eval_model(y_test, y_pred_dt_tuned, model_name)"
      ],
      "metadata": {
        "execution": {
          "iopub.status.busy": "2022-01-13T18:10:57.849785Z",
          "iopub.execute_input": "2022-01-13T18:10:57.850473Z",
          "iopub.status.idle": "2022-01-13T18:10:58.096779Z",
          "shell.execute_reply.started": "2022-01-13T18:10:57.85044Z",
          "shell.execute_reply": "2022-01-13T18:10:58.095788Z"
        },
        "trusted": true,
        "id": "Uqafzypg2qNy"
      },
      "execution_count": null,
      "outputs": []
    },
    {
      "cell_type": "code",
      "source": [
        "# Update the summary table\n",
        "summary.loc[len(summary.index)] = ['Decision Tree', round(f1_dt, 2), round(f1_dt_tuned, 2)]\n",
        "summary"
      ],
      "metadata": {
        "execution": {
          "iopub.status.busy": "2022-01-13T18:10:58.098403Z",
          "iopub.execute_input": "2022-01-13T18:10:58.098724Z",
          "iopub.status.idle": "2022-01-13T18:10:58.116278Z",
          "shell.execute_reply.started": "2022-01-13T18:10:58.098684Z",
          "shell.execute_reply": "2022-01-13T18:10:58.115383Z"
        },
        "trusted": true,
        "id": "EUmPaorH2qNy"
      },
      "execution_count": null,
      "outputs": []
    },
    {
      "cell_type": "markdown",
      "source": [
        "### Model 3: Random Forest"
      ],
      "metadata": {
        "id": "yiQpmWxa2qNy"
      }
    },
    {
      "cell_type": "code",
      "source": [
        "from sklearn.ensemble import RandomForestClassifier\n",
        "\n",
        "# Run the Random Forest model on default hyperparameters\n",
        "model_name = 'RANDOM FOREST'\n",
        "clf_rf = RandomForestClassifier()\n",
        "%time\n",
        "clf_rf.fit(X_train, y_train)\n",
        "y_pred_rf = clf_rf.predict(X_test)"
      ],
      "metadata": {
        "execution": {
          "iopub.status.busy": "2022-01-13T18:10:58.118109Z",
          "iopub.execute_input": "2022-01-13T18:10:58.118598Z",
          "iopub.status.idle": "2022-01-13T18:11:39.733238Z",
          "shell.execute_reply.started": "2022-01-13T18:10:58.118553Z",
          "shell.execute_reply": "2022-01-13T18:11:39.732397Z"
        },
        "trusted": true,
        "id": "hG5JIOQ22qNy"
      },
      "execution_count": null,
      "outputs": []
    },
    {
      "cell_type": "code",
      "source": [
        "# Calculate F1 Score using weighted average method\n",
        "f1_rf = f1_score(y_test, y_pred_rf, average=\"weighted\")\n",
        "f1_rf"
      ],
      "metadata": {
        "execution": {
          "iopub.status.busy": "2022-01-13T18:11:39.734466Z",
          "iopub.execute_input": "2022-01-13T18:11:39.734698Z",
          "iopub.status.idle": "2022-01-13T18:11:39.744562Z",
          "shell.execute_reply.started": "2022-01-13T18:11:39.734671Z",
          "shell.execute_reply": "2022-01-13T18:11:39.74347Z"
        },
        "trusted": true,
        "id": "tG6knz-P2qNz"
      },
      "execution_count": null,
      "outputs": []
    },
    {
      "cell_type": "code",
      "source": [
        "# Run Random Forest on tuned hyperparameters\n",
        "clf_rf_tuned = RandomForestClassifier(n_estimators=100, min_samples_split=5, min_samples_leaf=5, max_features=None, max_depth=30, criterion='gini')\n",
        "%time\n",
        "clf_rf_tuned.fit(X_train, y_train)\n",
        "y_pred_rf_tuned = clf_rf_tuned.predict(X_test)"
      ],
      "metadata": {
        "execution": {
          "iopub.status.busy": "2022-01-13T18:11:39.745861Z",
          "iopub.execute_input": "2022-01-13T18:11:39.74616Z",
          "iopub.status.idle": "2022-01-13T18:23:38.905993Z",
          "shell.execute_reply.started": "2022-01-13T18:11:39.746125Z",
          "shell.execute_reply": "2022-01-13T18:23:38.905311Z"
        },
        "trusted": true,
        "id": "tBEhFXRE2qNz"
      },
      "execution_count": null,
      "outputs": []
    },
    {
      "cell_type": "code",
      "source": [
        "# Calculate F1 Score of tuned model using weighted average method\n",
        "f1_rf_tuned = f1_score(y_test, y_pred_rf_tuned, average=\"weighted\")\n",
        "f1_rf_tuned"
      ],
      "metadata": {
        "execution": {
          "iopub.status.busy": "2022-01-13T18:23:38.907273Z",
          "iopub.execute_input": "2022-01-13T18:23:38.907861Z",
          "iopub.status.idle": "2022-01-13T18:23:38.916724Z",
          "shell.execute_reply.started": "2022-01-13T18:23:38.90783Z",
          "shell.execute_reply": "2022-01-13T18:23:38.916123Z"
        },
        "trusted": true,
        "id": "QrefZ2oB2qNz"
      },
      "execution_count": null,
      "outputs": []
    },
    {
      "cell_type": "code",
      "source": [
        "# Evaluate the tuned Random Forest classifier\n",
        "eval_model(y_test, y_pred_rf_tuned, model_name)"
      ],
      "metadata": {
        "execution": {
          "iopub.status.busy": "2022-01-13T18:23:38.917687Z",
          "iopub.execute_input": "2022-01-13T18:23:38.918235Z",
          "iopub.status.idle": "2022-01-13T18:23:39.169965Z",
          "shell.execute_reply.started": "2022-01-13T18:23:38.918202Z",
          "shell.execute_reply": "2022-01-13T18:23:39.169323Z"
        },
        "trusted": true,
        "id": "QLRXT6ui2qNz"
      },
      "execution_count": null,
      "outputs": []
    },
    {
      "cell_type": "code",
      "source": [
        "# Update the summary table\n",
        "summary.loc[len(summary.index)] = ['Random Forest', round(f1_rf, 2), round(f1_rf_tuned, 2)]\n",
        "summary"
      ],
      "metadata": {
        "execution": {
          "iopub.status.busy": "2022-01-13T18:23:39.17122Z",
          "iopub.execute_input": "2022-01-13T18:23:39.171726Z",
          "iopub.status.idle": "2022-01-13T18:23:39.189214Z",
          "shell.execute_reply.started": "2022-01-13T18:23:39.171685Z",
          "shell.execute_reply": "2022-01-13T18:23:39.188316Z"
        },
        "trusted": true,
        "id": "0eYAY1R32qNz"
      },
      "execution_count": null,
      "outputs": []
    },
    {
      "cell_type": "markdown",
      "source": [
        "#### From the above summary table, we observe that the `tuned Logistic Regression` performs the best among all that we tried."
      ],
      "metadata": {
        "id": "aqfDwx1w2qN0"
      }
    },
    {
      "cell_type": "code",
      "source": [
        "# Function to predict a topic for given text\n",
        "def predict_topic(text):\n",
        "\n",
        "    target_names = [\"Bank Account services\", \"Credit card or prepaid card\", \"Others\", \"Theft/Dispute Reporting\", \"Mortgage/Loan\"]\n",
        "\n",
        "    X_new_counts = count_vect.transform(text)\n",
        "    X_new_tfidf = tfidf_transformer.transform(X_new_counts)\n",
        "    predicted = clf_lr_tuned.predict(X_new_tfidf)\n",
        "\n",
        "    return target_names[predicted[0]]"
      ],
      "metadata": {
        "execution": {
          "iopub.status.busy": "2022-01-13T18:28:06.547471Z",
          "iopub.execute_input": "2022-01-13T18:28:06.547794Z",
          "iopub.status.idle": "2022-01-13T18:28:06.554389Z",
          "shell.execute_reply.started": "2022-01-13T18:28:06.547759Z",
          "shell.execute_reply": "2022-01-13T18:28:06.553534Z"
        },
        "trusted": true,
        "id": "NnmANAOY2qN0"
      },
      "execution_count": null,
      "outputs": []
    },
    {
      "cell_type": "code",
      "source": [
        "# Create a dataframe of some sample customer complaints\n",
        "df_new = pd.DataFrame({'complaints': [\"I can not get from chase who services my mortgage, who owns it and who has original loan docs\",\n",
        "                                  \"The bill amount of my credit card was debited twice. Please look into the matter and resolve at the earliest.\",\n",
        "                                  \"I want to open a salary account at your downtown branch. Please provide me the procedure.\",\n",
        "                                  \"Yesterday, I received a fraudulent email regarding renewal of my services.\",\n",
        "                                  \"What is the procedure to know my CIBIL score?\",\n",
        "                                  \"I need to know the number of bank branches and their locations in the city of Dubai\"]})\n",
        "df_new"
      ],
      "metadata": {
        "execution": {
          "iopub.status.busy": "2022-01-13T18:28:10.702001Z",
          "iopub.execute_input": "2022-01-13T18:28:10.702871Z",
          "iopub.status.idle": "2022-01-13T18:28:10.713735Z",
          "shell.execute_reply.started": "2022-01-13T18:28:10.702832Z",
          "shell.execute_reply": "2022-01-13T18:28:10.713037Z"
        },
        "trusted": true,
        "id": "DzYYABoa2qN0"
      },
      "execution_count": null,
      "outputs": []
    },
    {
      "cell_type": "code",
      "source": [
        "# Create a new column of predicted topics of each complaint, predicted using the tuned Logistic Regression model\n",
        "df_new['predicted topic'] = df_new['complaints'].apply(lambda x: predict_topic([x]))\n",
        "df_new"
      ],
      "metadata": {
        "execution": {
          "iopub.status.busy": "2022-01-13T18:28:14.35024Z",
          "iopub.execute_input": "2022-01-13T18:28:14.351196Z",
          "iopub.status.idle": "2022-01-13T18:28:14.374632Z",
          "shell.execute_reply.started": "2022-01-13T18:28:14.351155Z",
          "shell.execute_reply": "2022-01-13T18:28:14.373793Z"
        },
        "trusted": true,
        "id": "pXeZklyn2qN1"
      },
      "execution_count": null,
      "outputs": []
    }
  ]
}